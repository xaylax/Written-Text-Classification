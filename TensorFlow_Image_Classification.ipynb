{
  "nbformat": 4,
  "nbformat_minor": 0,
  "metadata": {
    "kernelspec": {
      "display_name": "Python 3",
      "language": "python",
      "name": "python3"
    },
    "language_info": {
      "codemirror_mode": {
        "name": "ipython",
        "version": 3
      },
      "file_extension": ".py",
      "mimetype": "text/x-python",
      "name": "python",
      "nbconvert_exporter": "python",
      "pygments_lexer": "ipython3",
      "version": "3.6.8"
    },
    "colab": {
      "name": "TensorFlow Beginner - Basic Image Classification.ipynb",
      "provenance": []
    }
  },
  "cells": [
    {
      "cell_type": "code",
      "metadata": {
        "id": "4eouYTakJMYY",
        "outputId": "9288aff8-0d64-4490-8d7a-f5b9c8603789",
        "colab": {
          "base_uri": "https://localhost:8080/"
        }
      },
      "source": [
        "import tensorflow as tf\n",
        "\n",
        "print('Using TensorFlow version', tf.__version__)"
      ],
      "execution_count": 4,
      "outputs": [
        {
          "output_type": "stream",
          "text": [
            "Using TensorFlow version 2.3.0\n"
          ],
          "name": "stdout"
        }
      ]
    },
    {
      "cell_type": "markdown",
      "metadata": {
        "id": "tpRjPsjHJMYa"
      },
      "source": [
        "# The Dataset \n",
        "## import MNIST"
      ]
    },
    {
      "cell_type": "code",
      "metadata": {
        "id": "XqFx8kMbJMYb",
        "outputId": "76f44db9-596c-4b6a-a7fc-e0c8f7dd216f",
        "colab": {
          "base_uri": "https://localhost:8080/"
        }
      },
      "source": [
        "from tensorflow.keras.datasets import mnist\n",
        "\n",
        "(x_train, y_train), (x_test, y_test) = mnist.load_data()"
      ],
      "execution_count": 5,
      "outputs": [
        {
          "output_type": "stream",
          "text": [
            "Downloading data from https://storage.googleapis.com/tensorflow/tf-keras-datasets/mnist.npz\n",
            "11493376/11490434 [==============================] - 0s 0us/step\n"
          ],
          "name": "stdout"
        }
      ]
    },
    {
      "cell_type": "markdown",
      "metadata": {
        "id": "9U_bLtJMLIFs"
      },
      "source": [
        "## Shapes of Imported Arrays"
      ]
    },
    {
      "cell_type": "code",
      "metadata": {
        "id": "23yrhVx3JMYd",
        "outputId": "d37c1a29-8359-4a06-da6a-2b9f5bc5df45",
        "colab": {
          "base_uri": "https://localhost:8080/"
        }
      },
      "source": [
        "print('x_train shape: ', x_train.shape)\n",
        "print('y_train shape: ', y_train.shape)\n",
        "print('x_test shape: ', x_test.shape)\n",
        "print('y_test shape: ', y_test.shape)\n",
        "\n",
        "# first axis is the number of examples in the array- 60,000 training examples and 10,000 test examples\n",
        "# each example has 28 columns and 28 rows # basically means that each image is 28 pixels high and 28 pixels wide\n",
        "# basically means that easch image is 28 pixels high and 28 pixels wide"
      ],
      "execution_count": 6,
      "outputs": [
        {
          "output_type": "stream",
          "text": [
            "x_train shape:  (60000, 28, 28)\n",
            "y_train shape:  (60000,)\n",
            "x_test shape:  (10000, 28, 28)\n",
            "y_test shape:  (10000,)\n"
          ],
          "name": "stdout"
        }
      ]
    },
    {
      "cell_type": "markdown",
      "metadata": {
        "id": "ACBbh_lCLNa9"
      },
      "source": [
        "## Plot an Image Example"
      ]
    },
    {
      "cell_type": "code",
      "metadata": {
        "id": "43TNuxVWJMYf",
        "outputId": "ded3b557-bba4-4278-9339-f03958b31152",
        "colab": {
          "base_uri": "https://localhost:8080/",
          "height": 265
        }
      },
      "source": [
        "import matplotlib.pyplot as plt\n",
        "%matplotlib inline\n",
        "# ensures that the images are displayed within the notebook\n",
        "\n",
        "plt.imshow(x_train[0], cmap = 'binary') #binary is setting it as black and white\n",
        "plt.show()"
      ],
      "execution_count": 7,
      "outputs": [
        {
          "output_type": "display_data",
          "data": {
            "image/png": "[encoded data removed]",
            "text/plain": [
              "<Figure size 432x288 with 1 Axes>"
            ]
          },
          "metadata": {
            "tags": [],
            "needs_background": "light"
          }
        }
      ]
    },
    {
      "cell_type": "markdown",
      "metadata": {
        "id": "zC_mlD0MKTNO"
      },
      "source": [
        "## Display Labels"
      ]
    },
    {
      "cell_type": "code",
      "metadata": {
        "id": "UUHA66-AJMYh",
        "outputId": "74177b2b-a410-45b0-a008-5429957222ed",
        "colab": {
          "base_uri": "https://localhost:8080/"
        }
      },
      "source": [
        "y_train[0] # the value of the actual digit"
      ],
      "execution_count": 8,
      "outputs": [
        {
          "output_type": "execute_result",
          "data": {
            "text/plain": [
              "5"
            ]
          },
          "metadata": {
            "tags": []
          },
          "execution_count": 8
        }
      ]
    },
    {
      "cell_type": "code",
      "metadata": {
        "id": "HUwXtQw-LiVZ",
        "outputId": "25855560-511a-44b5-f8ad-5a20bd920bdc",
        "colab": {
          "base_uri": "https://localhost:8080/"
        }
      },
      "source": [
        "print(set(y_train)) # displays the unique values in the training set (the classes we have)"
      ],
      "execution_count": 9,
      "outputs": [
        {
          "output_type": "stream",
          "text": [
            "{0, 1, 2, 3, 4, 5, 6, 7, 8, 9}\n"
          ],
          "name": "stdout"
        }
      ]
    },
    {
      "cell_type": "markdown",
      "metadata": {
        "id": "-WSuF84IJMYm"
      },
      "source": [
        "# One Hot Encoding\n",
        "## Encoding Labels\n"
      ]
    },
    {
      "cell_type": "code",
      "metadata": {
        "id": "ZO2VAYFFJMYm"
      },
      "source": [
        "from tensorflow.keras.utils import to_categorical\n",
        "# converts every label into one hot encoding\n",
        "y_train_encoded = to_categorical(y_train)\n",
        "y_test_encoded = to_categorical(y_test)"
      ],
      "execution_count": 14,
      "outputs": []
    },
    {
      "cell_type": "markdown",
      "metadata": {
        "id": "hlDfluJfL-a8"
      },
      "source": [
        "## Validated Shapes"
      ]
    },
    {
      "cell_type": "code",
      "metadata": {
        "id": "4MSWfAeFJMYp",
        "outputId": "703bf45c-2e0a-46e4-8045-0429d45396b2",
        "colab": {
          "base_uri": "https://localhost:8080/"
        }
      },
      "source": [
        "print('y_train shape: ', y_train_encoded.shape)\n",
        "print('y_test shape: ', y_test_encoded.shape)\n",
        "# values have been converted into the 10 digit array, easier to apply NN now"
      ],
      "execution_count": 15,
      "outputs": [
        {
          "output_type": "stream",
          "text": [
            "y_train shape:  (60000, 10)\n",
            "y_test shape:  (10000, 10)\n"
          ],
          "name": "stdout"
        }
      ]
    },
    {
      "cell_type": "markdown",
      "metadata": {
        "id": "C7juhiP-JMYr"
      },
      "source": [
        "## Display Encoded Labels"
      ]
    },
    {
      "cell_type": "code",
      "metadata": {
        "id": "Ey0LRX4EJMYr",
        "outputId": "a56f41d5-d5db-4c63-fe6a-adbb431d8f1e",
        "colab": {
          "base_uri": "https://localhost:8080/"
        }
      },
      "source": [
        "y_train_encoded[0]"
      ],
      "execution_count": 16,
      "outputs": [
        {
          "output_type": "execute_result",
          "data": {
            "text/plain": [
              "array([0., 0., 0., 0., 0., 1., 0., 0., 0., 0.], dtype=float32)"
            ]
          },
          "metadata": {
            "tags": []
          },
          "execution_count": 16
        }
      ]
    },
    {
      "cell_type": "markdown",
      "metadata": {
        "id": "KB8M08jTJMYt"
      },
      "source": [
        "# Neural Networks"
      ]
    },
    {
      "cell_type": "markdown",
      "metadata": {
        "id": "r51UIBZLJMYu"
      },
      "source": [
        "# Preprocessing the Examples"
      ]
    },
    {
      "cell_type": "code",
      "metadata": {
        "id": "mVUAfXYHJMYu",
        "outputId": "6ca6720d-7063-4284-910c-b66593fb8a4e",
        "colab": {
          "base_uri": "https://localhost:8080/"
        }
      },
      "source": [
        "# take 784 dimensional vectors (28 x 28 pixels/image) as inputs and will output a 10 dimensional vector for the 10 classes\n",
        "# what we want to do is make the 28x28 vector into a 784 x 1 array\n",
        "\n",
        "import numpy as np\n",
        "\n",
        "x_train_reshaped = np.reshape(x_train, (60000, 784))\n",
        "x_test_reshaped = np.reshape(x_test, (10000, 784))\n",
        "\n",
        "print('x_train_reshaped shape: ', x_train_reshaped.shape)\n",
        "print('x_test_reshaped shape: ', x_test_reshaped.shape)\n",
        "\n",
        "# each example is now a 784 dimensional vector\n",
        "# each value in this vector corresponds to a pixel value in the image"
      ],
      "execution_count": 17,
      "outputs": [
        {
          "output_type": "stream",
          "text": [
            "x_train_reshaped shape:  (60000, 784)\n",
            "x_test_reshaped shape:  (10000, 784)\n"
          ],
          "name": "stdout"
        }
      ]
    },
    {
      "cell_type": "markdown",
      "metadata": {
        "id": "2NjfcaqJJMYw"
      },
      "source": [
        "## Display Pixel Values"
      ]
    },
    {
      "cell_type": "code",
      "metadata": {
        "id": "4mSAQ05GJMYw",
        "outputId": "82671892-cfb4-4c3c-d2ac-408a42645df3",
        "colab": {
          "base_uri": "https://localhost:8080/"
        }
      },
      "source": [
        "print(set(x_train_reshaped[0]))"
      ],
      "execution_count": 19,
      "outputs": [
        {
          "output_type": "stream",
          "text": [
            "{0, 1, 2, 3, 9, 11, 14, 16, 18, 23, 24, 25, 26, 27, 30, 35, 36, 39, 43, 45, 46, 49, 55, 56, 64, 66, 70, 78, 80, 81, 82, 90, 93, 94, 107, 108, 114, 119, 126, 127, 130, 132, 133, 135, 136, 139, 148, 150, 154, 156, 160, 166, 170, 171, 172, 175, 182, 183, 186, 187, 190, 195, 198, 201, 205, 207, 212, 213, 219, 221, 225, 226, 229, 238, 240, 241, 242, 244, 247, 249, 250, 251, 252, 253, 255}\n"
          ],
          "name": "stdout"
        }
      ]
    },
    {
      "cell_type": "markdown",
      "metadata": {
        "id": "2ELVzGtZJMYy"
      },
      "source": [
        "## Data Normalization"
      ]
    },
    {
      "cell_type": "code",
      "metadata": {
        "id": "Tczox5NZJMYy",
        "outputId": "d03cbacb-83c7-44bf-8aed-77c6c8e04d0e",
        "colab": {
          "base_uri": "https://localhost:8080/"
        }
      },
      "source": [
        "#normalize each pixel value to make it easier to work with for the NN\n",
        "x_mean = np.mean(x_train_reshaped)\n",
        "x_std = np.std(x_train_reshaped)\n",
        "\n",
        "print('mean: ', x_mean)\n",
        "print('std: ', x_std)\n",
        "\n",
        "# x mean being subtracted from all the pixel values in the training set\n",
        "# adding small value (epsilon) to std (which can be very small) fixes unstability problems\n",
        "# apply same value (x_mean) to test set and training set because you want to do same\n",
        "# preprocessing on both sets- if did separately, might introduce bias in the test set\n",
        "\n",
        "epsilon = 1e-10\n",
        "x_train_norm = (x_train_reshaped - x_mean)/(x_std + epsilon)\n",
        "x_test_norm = (x_test_reshaped - x_mean)/(x_std + epsilon)"
      ],
      "execution_count": 20,
      "outputs": [
        {
          "output_type": "stream",
          "text": [
            "mean:  33.318421449829934\n",
            "std:  78.56748998339798\n"
          ],
          "name": "stdout"
        }
      ]
    },
    {
      "cell_type": "markdown",
      "metadata": {
        "id": "fIpjvkyyMuF8"
      },
      "source": [
        "## Display Normalizated Pixel Values"
      ]
    },
    {
      "cell_type": "code",
      "metadata": {
        "id": "lBcrvaK8MzFS",
        "outputId": "89ddfdc9-00d3-4a99-b631-b8c313e7bc71",
        "colab": {
          "base_uri": "https://localhost:8080/"
        }
      },
      "source": [
        "print(set(x_train_norm[0]))"
      ],
      "execution_count": 21,
      "outputs": [
        {
          "output_type": "stream",
          "text": [
            "{-0.38589016215482896, 1.306921966983251, 1.17964285952926, 1.803310486053816, 1.6887592893452241, 2.8215433456857437, 2.719720059722551, 1.1923707702746593, 1.7396709323268205, 2.057868700961798, 2.3633385588513764, 2.096052433197995, 1.7651267538176187, 2.7960875241949457, 2.7451758812133495, 2.45243393406917, 0.02140298169794222, -0.22042732246464067, 1.2305545025108566, 0.2759611966059242, 2.210603629906587, 2.6560805059955555, 2.6051688630139593, -0.4240738943910262, 0.4668798577869107, 0.1486820891519332, 0.3905123933145161, 1.0905474843114664, -0.09314821501064967, 1.4851127174188385, 2.7579037919587486, 1.5360243604004349, 0.07231462467953861, -0.13133194724684696, 1.294194056237852, 0.03413089244334132, 1.3451056992194483, 2.274243183633583, -0.24588314395543887, 0.772349715676489, 0.75962180493109, 0.7214380726948927, 0.1995937321335296, -0.41134598364562713, 0.5687031437501034, 0.5941589652409017, 0.9378125553666773, 0.9505404661120763, 0.6068868759863008, 0.4159682148053143, -0.042236572029053274, 2.7706317027041476, 2.1342361654341926, 0.12322626766113501, -0.08042030426525057, 0.16140999989733232, 1.8924058612716097, 1.2560103240016547, 2.185147808415789, 0.6196147867316999, 1.943317504253206, -0.11860403650144787, -0.30952269768243434, 1.9942291472348024, -0.2840668761916362, 2.6306246845047574, 2.286971094378982, -0.19497150097384247, -0.39861807290022805, 0.2886891073513233, 1.7523988430722195, 2.3887943803421745, 2.681536327486354, 1.4596568959280403, 2.439706023323771, 2.7833596134495466, 2.490617666305367, -0.10587612575604877, 1.5614801818912332, 1.9051337720170087, 1.6123918248728295, 1.268738234747054, 1.9560454149986053, 2.6433525952501564, 1.026907930584471}\n"
          ],
          "name": "stdout"
        }
      ]
    },
    {
      "cell_type": "markdown",
      "metadata": {
        "id": "iMAX0e1XJMY5"
      },
      "source": [
        "# Creating a Model\n"
      ]
    },
    {
      "cell_type": "code",
      "metadata": {
        "id": "KS44dsoTJMY6"
      },
      "source": [
        "from tensorflow.keras.models import Sequential\n",
        "from tensorflow.keras.layers import Dense\n",
        "\n",
        "# more layers/nodes = more computing power, but more accurate, so there's a tradeoff\n",
        "\n",
        "model = Sequential([\n",
        "    Dense(128, activation = 'relu', input_shape = (784,)), \n",
        "    Dense(128, activation = 'relu'),  # more layers/nodes = more computing power, but more accurate, so there's a tradeoff\n",
        "    Dense(10, activation = 'softmax') # more layers/nodes = more computing power, but more accurate, so there's a tradeoff\n",
        "])"
      ],
      "execution_count": 23,
      "outputs": []
    },
    {
      "cell_type": "markdown",
      "metadata": {
        "id": "T8D3_YF7NIOY"
      },
      "source": [
        "## Compiling the Model"
      ]
    },
    {
      "cell_type": "code",
      "metadata": {
        "id": "DAEylzxPJMY8",
        "outputId": "6eed8186-0950-4bad-8138-41c020d44cc4",
        "colab": {
          "base_uri": "https://localhost:8080/"
        }
      },
      "source": [
        "model.compile(\n",
        "    # more layers/nodes = more computing power, but more accurate, so there's a tradeoff\n",
        "    optimizer = 'sgd',\n",
        "    loss = 'categorical_crossentropy', # more layers/nodes = more computing power, but more accurate, so there's a tradeoff\n",
        "    metrics = ['accuracy']\n",
        ")\n",
        "\n",
        "model.summary() # displays the architecture of the model\n",
        "\n",
        "# manually calculate parameter = 10 (nodes in current layer) x 128 (nodes in the previous layer) = 1280 + 10 biases (an intercept from the previous layer is connected to each of the 10 current nodes) = 1290"
      ],
      "execution_count": 24,
      "outputs": [
        {
          "output_type": "stream",
          "text": [
            "Model: \"sequential_1\"\n",
            "_________________________________________________________________\n",
            "Layer (type)                 Output Shape              Param #   \n",
            "=================================================================\n",
            "dense_3 (Dense)              (None, 128)               100480    \n",
            "_________________________________________________________________\n",
            "dense_4 (Dense)              (None, 128)               16512     \n",
            "_________________________________________________________________\n",
            "dense_5 (Dense)              (None, 10)                1290      \n",
            "=================================================================\n",
            "Total params: 118,282\n",
            "Trainable params: 118,282\n",
            "Non-trainable params: 0\n",
            "_________________________________________________________________\n"
          ],
          "name": "stdout"
        }
      ]
    },
    {
      "cell_type": "markdown",
      "metadata": {
        "id": "F4ZbXkW8JMY-"
      },
      "source": [
        "# Training the Model\n"
      ]
    },
    {
      "cell_type": "code",
      "metadata": {
        "id": "4nyfSZ9YJMY_",
        "outputId": "b1dd84b0-3ff1-4a3b-d8d2-257786b09e72",
        "colab": {
          "base_uri": "https://localhost:8080/"
        }
      },
      "source": [
        "# use training set only -> don't use test set or model can cheat!\n",
        "# go through examples 3 times\n",
        "h = model.fit(\n",
        "    x_train_norm,\n",
        "    y_train_encoded,\n",
        "    epochs = 3\n",
        ")"
      ],
      "execution_count": 25,
      "outputs": [
        {
          "output_type": "stream",
          "text": [
            "Epoch 1/3\n",
            "1875/1875 [==============================] - 5s 3ms/step - loss: 0.3646 - accuracy: 0.8929\n",
            "Epoch 2/3\n",
            "1875/1875 [==============================] - 4s 2ms/step - loss: 0.1840 - accuracy: 0.9453\n",
            "Epoch 3/3\n",
            "1875/1875 [==============================] - 4s 2ms/step - loss: 0.1377 - accuracy: 0.9602\n"
          ],
          "name": "stdout"
        }
      ]
    },
    {
      "cell_type": "code",
      "metadata": {
        "id": "oud0ITApJMZB",
        "outputId": "ba3c7aea-838c-4ab7-c291-2af292aa4381",
        "colab": {
          "base_uri": "https://localhost:8080/"
        }
      },
      "source": [
        "# use model state after training, does forward pass to understand predictions of model, and compares with the labels... no back propagation for better acuracy\n",
        "loss, accuracy = model.evaluate(x_test_norm, y_test_encoded)\n",
        "\n",
        "print('test set accuracy: ', accuracy * 100)"
      ],
      "execution_count": 26,
      "outputs": [
        {
          "output_type": "stream",
          "text": [
            "313/313 [==============================] - 0s 1ms/step - loss: 0.1318 - accuracy: 0.9593\n",
            "test set accuracy:  95.92999815940857\n"
          ],
          "name": "stdout"
        }
      ]
    },
    {
      "cell_type": "markdown",
      "metadata": {
        "id": "eRxscxRYJMZD"
      },
      "source": [
        "# Predictions"
      ]
    },
    {
      "cell_type": "code",
      "metadata": {
        "id": "pEY7HDyfJMZD",
        "outputId": "94aae0c0-642e-4822-a772-115ea3785e0b",
        "colab": {
          "base_uri": "https://localhost:8080/"
        }
      },
      "source": [
        "preds = model.predict(x_test_norm)\n",
        "\n",
        "print('shape of preds: ', preds.shape)"
      ],
      "execution_count": 27,
      "outputs": [
        {
          "output_type": "stream",
          "text": [
            "shape of preds:  (10000, 10)\n"
          ],
          "name": "stdout"
        }
      ]
    },
    {
      "cell_type": "markdown",
      "metadata": {
        "id": "aZFiIwcEJMZF"
      },
      "source": [
        "## Plotting the Results"
      ]
    },
    {
      "cell_type": "code",
      "metadata": {
        "id": "MsJuzgadJMZF",
        "outputId": "fe64faa7-37ef-42dd-83b3-5860ec5f58e3",
        "colab": {
          "base_uri": "https://localhost:8080/",
          "height": 698
        }
      },
      "source": [
        "plt.figure(figsize = (12, 12))\n",
        "\n",
        "start_index = 0\n",
        "\n",
        "for i in range(25):\n",
        "    plt.subplot(5, 5, i + 1)\n",
        "    plt.grid(False)\n",
        "    plt.xticks([])\n",
        "    plt.yticks([])\n",
        "    pred = np.argmax(preds[start_index + i])\n",
        "    actual = np.argmax(y_test_encoded[start_index + i])\n",
        "    col = 'g' # set the colour to green\n",
        "    if pred != actual:\n",
        "        col = 'r' # set the colour to red\n",
        "    plt.xlabel('i={} | pred={} | true={}'.format(start_index + i, pred, actual), color = col)\n",
        "    plt.imshow(x_test[start_index + i], cmap='binary')\n",
        "plt.show()"
      ],
      "execution_count": 28,
      "outputs": [
        {
          "output_type": "display_data",
          "data": {
            "image/png": "[encoded data removed]",
            "text/plain": [
              "<Figure size 864x864 with 25 Axes>"
            ]
          },
          "metadata": {
            "tags": []
          }
        }
      ]
    },
    {
      "cell_type": "code",
      "metadata": {
        "id": "gEVk8Hd-JMZI",
        "outputId": "2bed3369-32ab-4115-e367-a94e81eabec2",
        "colab": {
          "base_uri": "https://localhost:8080/",
          "height": 265
        }
      },
      "source": [
        "\n",
        "index = 8\n",
        "\n",
        "plt.plot(preds[index])\n",
        "plt.show() # softmax predictability outputs- it really really thinks it's 6 (80%)"
      ],
      "execution_count": 29,
      "outputs": [
        {
          "output_type": "display_data",
          "data": {
            "image/png": "[encoded data removed]",
            "text/plain": [
              "<Figure size 432x288 with 1 Axes>"
            ]
          },
          "metadata": {
            "tags": [],
            "needs_background": "light"
          }
        }
      ]
    }
  ]
}